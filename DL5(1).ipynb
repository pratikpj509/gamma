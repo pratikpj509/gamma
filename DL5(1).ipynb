{
 "cells": [
  {
   "cell_type": "raw",
   "id": "ef53d449",
   "metadata": {},
   "source": [
    "Implement the Continuous Bag of Words (CBOW) Model. Stages can be: \n",
    "    a. Data preparation \n",
    "    b. Generate training data \n",
    "    c. Train model \n",
    "    d. Output"
   ]
  },
  {
   "cell_type": "code",
   "execution_count": 2,
   "id": "3217fd93",
   "metadata": {},
   "outputs": [],
   "source": [
    "# #importing libraries\n",
    "# import warnings\n",
    "# warnings.filterwarnings(\"ignore\")\n",
    "from tensorflow.keras.preprocessing import text\n",
    "from tensorflow.keras.utils import to_categorical as np_utils\n",
    "from tensorflow.keras.preprocessing import sequence\n",
    "from tensorflow.keras.utils import pad_sequences\n",
    "import numpy as np\n",
    "import pandas as pd"
   ]
  },
  {
   "cell_type": "code",
   "execution_count": 2,
   "id": "59dd3925",
   "metadata": {},
   "outputs": [],
   "source": [
    "#taking random sentences as data\n",
    "data = \"\"\"Deep learning (also known as deep structured learning) is part of a broader family of machine learning methods based on artificial neural networks with representation learning. Learning can be supervised, semi-supervised or unsupervised. \n",
    "Deep-learning architectures such as deep neural networks, deep belief networks, deep reinforcement learning, recurrent neural networks, convolutional neural networks and Transformers have been applied to fields including computer vision, speech recognition, natural language processing, machine translation, bioinformatics, drug design, medical image analysis, climate science, material inspection and board game programs, where they have produced results comparable to and in some cases surpassing human expert performance.\n",
    "\"\"\"\n",
    "dl_data = data.split()"
   ]
  },
  {
   "cell_type": "code",
   "execution_count": 3,
   "id": "1b30edd4",
   "metadata": {},
   "outputs": [
    {
     "name": "stdout",
     "output_type": "stream",
     "text": [
      "Vocabulary Size: 75\n",
      "Vocabulary Sample: [('learning', 1), ('deep', 2), ('networks', 3), ('neural', 4), ('and', 5), ('as', 6), ('of', 7), ('machine', 8), ('supervised', 9), ('have', 10)]\n"
     ]
    }
   ],
   "source": [
    "#tokenization\n",
    "tokenizer = text.Tokenizer()\n",
    "tokenizer.fit_on_texts(dl_data)\n",
    "word2id = tokenizer.word_index\n",
    "\n",
    "word2id['PAD'] = 0\n",
    "id2word = {v:k for k, v in word2id.items()}\n",
    "wids = [[word2id[w] for w in text.text_to_word_sequence(doc)] for doc in dl_data]\n",
    "\n",
    "vocab_size = len(word2id)\n",
    "embed_size = 100\n",
    "window_size = 2 \n",
    "\n",
    "print('Vocabulary Size:', vocab_size)\n",
    "print('Vocabulary Sample:', list(word2id.items())[:10])"
   ]
  },
  {
   "cell_type": "code",
   "execution_count": 4,
   "id": "b43ffb94",
   "metadata": {},
   "outputs": [],
   "source": [
    "#generating (context word, target/label word) pairs\n",
    "def generate_context_word_pairs(corpus, window_size, vocab_size):\n",
    "    context_length = window_size*2\n",
    "    for words in corpus:\n",
    "        sentence_length = len(words)\n",
    "        for index, word in enumerate(words):\n",
    "            context_words = []\n",
    "            label_word   = []            \n",
    "            start = index - window_size\n",
    "            end = index + window_size + 1\n",
    "            \n",
    "            context_words.append([words[i] \n",
    "                                 for i in range(start, end) \n",
    "                                 if 0 <= i < sentence_length \n",
    "                                 and i != index])\n",
    "            label_word.append(word)\n",
    "\n",
    "            x = pad_sequences(context_words, maxlen=context_length)\n",
    "            y = np_utils(label_word, vocab_size)\n",
    "            yield (x, y)\n",
    "            \n",
    "i = 0\n",
    "for x, y in generate_context_word_pairs(corpus=wids, window_size=window_size, vocab_size=vocab_size):\n",
    "    if 0 not in x[0]:\n",
    "        # print('Context (X):', [id2word[w] for w in x[0]], '-> Target (Y):', id2word[np.argwhere(y[0])[0][0]])\n",
    "    \n",
    "        if i == 10:\n",
    "            break\n",
    "        i += 1"
   ]
  },
  {
   "cell_type": "code",
   "execution_count": 5,
   "id": "08ec0118",
   "metadata": {},
   "outputs": [
    {
     "name": "stdout",
     "output_type": "stream",
     "text": [
      "Model: \"sequential\"\n",
      "_________________________________________________________________\n",
      " Layer (type)                Output Shape              Param #   \n",
      "=================================================================\n",
      " embedding (Embedding)       (None, 4, 100)            7500      \n",
      "                                                                 \n",
      " lambda (Lambda)             (None, 100)               0         \n",
      "                                                                 \n",
      " dense (Dense)               (None, 75)                7575      \n",
      "                                                                 \n",
      "=================================================================\n",
      "Total params: 15,075\n",
      "Trainable params: 15,075\n",
      "Non-trainable params: 0\n",
      "_________________________________________________________________\n",
      "None\n"
     ]
    }
   ],
   "source": [
    "#model building\n",
    "import tensorflow.keras.backend as K\n",
    "from tensorflow.keras.models import Sequential\n",
    "from tensorflow.keras.layers import Dense, Embedding, Lambda\n",
    "\n",
    "cbow = Sequential()\n",
    "cbow.add(Embedding(input_dim=vocab_size, output_dim=embed_size, input_length=window_size*2))\n",
    "cbow.add(Lambda(lambda x: K.mean(x, axis=1), output_shape=(embed_size,)))\n",
    "cbow.add(Dense(vocab_size, activation='softmax'))\n",
    "cbow.compile(loss='categorical_crossentropy', optimizer='adam', metrics=[\"accuracy\"])\n",
    "\n",
    "print(cbow.summary())\n",
    "\n",
    "# from IPython.display import SVG\n",
    "# from keras.utils.vis_utils import model_to_dot\n",
    "\n",
    "# SVG(model_to_dot(cbow, show_shapes=True, show_layer_names=False, rankdir='TB').create(prog='dot', format='svg'))"
   ]
  },
  {
   "cell_type": "code",
   "execution_count": 6,
   "id": "c84dd1b9",
   "metadata": {},
   "outputs": [
    {
     "name": "stdout",
     "output_type": "stream",
     "text": [
      "Epoch 1/10\n",
      "1/1 [==============================] - 1s 1s/step - loss: 4.3501 - accuracy: 0.0000e+00\n",
      "Epoch 2/10\n",
      "1/1 [==============================] - 0s 6ms/step - loss: 4.3339 - accuracy: 0.0000e+00\n",
      "Epoch 3/10\n",
      "1/1 [==============================] - 0s 7ms/step - loss: 4.3176 - accuracy: 0.0000e+00\n",
      "Epoch 4/10\n",
      "1/1 [==============================] - 0s 7ms/step - loss: 4.3013 - accuracy: 0.0000e+00\n",
      "Epoch 5/10\n",
      "1/1 [==============================] - 0s 6ms/step - loss: 4.2851 - accuracy: 0.0000e+00\n",
      "Epoch 6/10\n",
      "1/1 [==============================] - 0s 8ms/step - loss: 4.2688 - accuracy: 0.0000e+00\n",
      "Epoch 7/10\n",
      "1/1 [==============================] - 0s 6ms/step - loss: 4.2525 - accuracy: 1.0000\n",
      "Epoch 8/10\n",
      "1/1 [==============================] - 0s 7ms/step - loss: 4.2361 - accuracy: 1.0000\n",
      "Epoch 9/10\n",
      "1/1 [==============================] - 0s 5ms/step - loss: 4.2198 - accuracy: 1.0000\n",
      "Epoch 10/10\n",
      "1/1 [==============================] - 0s 6ms/step - loss: 4.2034 - accuracy: 1.0000\n"
     ]
    },
    {
     "data": {
      "text/plain": [
       "<keras.callbacks.History at 0x1fd90208760>"
      ]
     },
     "execution_count": 6,
     "metadata": {},
     "output_type": "execute_result"
    }
   ],
   "source": [
    "cbow.fit(x, y, epochs=10, verbose=1)"
   ]
  },
  {
   "cell_type": "code",
   "execution_count": 7,
   "id": "ea90a396",
   "metadata": {},
   "outputs": [
    {
     "name": "stdout",
     "output_type": "stream",
     "text": [
      "(74, 100)\n"
     ]
    },
    {
     "data": {
      "text/html": [
       "<div>\n",
       "<style scoped>\n",
       "    .dataframe tbody tr th:only-of-type {\n",
       "        vertical-align: middle;\n",
       "    }\n",
       "\n",
       "    .dataframe tbody tr th {\n",
       "        vertical-align: top;\n",
       "    }\n",
       "\n",
       "    .dataframe thead th {\n",
       "        text-align: right;\n",
       "    }\n",
       "</style>\n",
       "<table border=\"1\" class=\"dataframe\">\n",
       "  <thead>\n",
       "    <tr style=\"text-align: right;\">\n",
       "      <th></th>\n",
       "      <th>0</th>\n",
       "      <th>1</th>\n",
       "      <th>2</th>\n",
       "      <th>3</th>\n",
       "      <th>4</th>\n",
       "      <th>5</th>\n",
       "      <th>6</th>\n",
       "      <th>7</th>\n",
       "      <th>8</th>\n",
       "      <th>9</th>\n",
       "      <th>...</th>\n",
       "      <th>90</th>\n",
       "      <th>91</th>\n",
       "      <th>92</th>\n",
       "      <th>93</th>\n",
       "      <th>94</th>\n",
       "      <th>95</th>\n",
       "      <th>96</th>\n",
       "      <th>97</th>\n",
       "      <th>98</th>\n",
       "      <th>99</th>\n",
       "    </tr>\n",
       "  </thead>\n",
       "  <tbody>\n",
       "    <tr>\n",
       "      <th>deep</th>\n",
       "      <td>0.049555</td>\n",
       "      <td>0.013263</td>\n",
       "      <td>-0.037127</td>\n",
       "      <td>0.015522</td>\n",
       "      <td>0.024142</td>\n",
       "      <td>-0.020744</td>\n",
       "      <td>-0.018974</td>\n",
       "      <td>0.014090</td>\n",
       "      <td>-0.027763</td>\n",
       "      <td>0.029944</td>\n",
       "      <td>...</td>\n",
       "      <td>-0.022640</td>\n",
       "      <td>0.049408</td>\n",
       "      <td>-0.047843</td>\n",
       "      <td>-0.021477</td>\n",
       "      <td>-0.041879</td>\n",
       "      <td>0.002027</td>\n",
       "      <td>0.031538</td>\n",
       "      <td>-0.026211</td>\n",
       "      <td>0.028766</td>\n",
       "      <td>0.011593</td>\n",
       "    </tr>\n",
       "    <tr>\n",
       "      <th>networks</th>\n",
       "      <td>-0.043153</td>\n",
       "      <td>-0.015343</td>\n",
       "      <td>-0.044785</td>\n",
       "      <td>-0.047414</td>\n",
       "      <td>-0.041467</td>\n",
       "      <td>-0.013872</td>\n",
       "      <td>0.047790</td>\n",
       "      <td>-0.015439</td>\n",
       "      <td>-0.006875</td>\n",
       "      <td>0.036161</td>\n",
       "      <td>...</td>\n",
       "      <td>-0.033633</td>\n",
       "      <td>0.036782</td>\n",
       "      <td>-0.045058</td>\n",
       "      <td>-0.049737</td>\n",
       "      <td>0.003334</td>\n",
       "      <td>-0.041389</td>\n",
       "      <td>-0.049591</td>\n",
       "      <td>0.034766</td>\n",
       "      <td>-0.039074</td>\n",
       "      <td>-0.013693</td>\n",
       "    </tr>\n",
       "    <tr>\n",
       "      <th>neural</th>\n",
       "      <td>0.011656</td>\n",
       "      <td>0.008567</td>\n",
       "      <td>-0.001324</td>\n",
       "      <td>-0.040477</td>\n",
       "      <td>-0.009425</td>\n",
       "      <td>-0.017866</td>\n",
       "      <td>-0.000441</td>\n",
       "      <td>-0.010358</td>\n",
       "      <td>-0.042919</td>\n",
       "      <td>0.020014</td>\n",
       "      <td>...</td>\n",
       "      <td>-0.033135</td>\n",
       "      <td>-0.011705</td>\n",
       "      <td>0.009918</td>\n",
       "      <td>0.047956</td>\n",
       "      <td>0.047155</td>\n",
       "      <td>0.018235</td>\n",
       "      <td>0.017842</td>\n",
       "      <td>-0.014145</td>\n",
       "      <td>0.003705</td>\n",
       "      <td>0.013786</td>\n",
       "    </tr>\n",
       "    <tr>\n",
       "      <th>and</th>\n",
       "      <td>-0.003117</td>\n",
       "      <td>0.030722</td>\n",
       "      <td>0.041774</td>\n",
       "      <td>-0.015686</td>\n",
       "      <td>0.020573</td>\n",
       "      <td>0.041941</td>\n",
       "      <td>0.003022</td>\n",
       "      <td>-0.011052</td>\n",
       "      <td>-0.010028</td>\n",
       "      <td>-0.044554</td>\n",
       "      <td>...</td>\n",
       "      <td>0.015895</td>\n",
       "      <td>0.048282</td>\n",
       "      <td>0.021178</td>\n",
       "      <td>0.036694</td>\n",
       "      <td>-0.002875</td>\n",
       "      <td>0.045490</td>\n",
       "      <td>-0.008114</td>\n",
       "      <td>-0.013406</td>\n",
       "      <td>0.049373</td>\n",
       "      <td>-0.033712</td>\n",
       "    </tr>\n",
       "    <tr>\n",
       "      <th>as</th>\n",
       "      <td>0.005712</td>\n",
       "      <td>0.002244</td>\n",
       "      <td>0.026866</td>\n",
       "      <td>-0.040194</td>\n",
       "      <td>-0.046970</td>\n",
       "      <td>-0.000044</td>\n",
       "      <td>0.007143</td>\n",
       "      <td>0.046381</td>\n",
       "      <td>0.018130</td>\n",
       "      <td>-0.027704</td>\n",
       "      <td>...</td>\n",
       "      <td>0.042003</td>\n",
       "      <td>-0.029192</td>\n",
       "      <td>0.020552</td>\n",
       "      <td>0.012791</td>\n",
       "      <td>0.014633</td>\n",
       "      <td>0.008141</td>\n",
       "      <td>0.001320</td>\n",
       "      <td>0.034206</td>\n",
       "      <td>0.030691</td>\n",
       "      <td>0.037772</td>\n",
       "    </tr>\n",
       "  </tbody>\n",
       "</table>\n",
       "<p>5 rows × 100 columns</p>\n",
       "</div>"
      ],
      "text/plain": [
       "                0         1         2         3         4         5   \\\n",
       "deep      0.049555  0.013263 -0.037127  0.015522  0.024142 -0.020744   \n",
       "networks -0.043153 -0.015343 -0.044785 -0.047414 -0.041467 -0.013872   \n",
       "neural    0.011656  0.008567 -0.001324 -0.040477 -0.009425 -0.017866   \n",
       "and      -0.003117  0.030722  0.041774 -0.015686  0.020573  0.041941   \n",
       "as        0.005712  0.002244  0.026866 -0.040194 -0.046970 -0.000044   \n",
       "\n",
       "                6         7         8         9   ...        90        91  \\\n",
       "deep     -0.018974  0.014090 -0.027763  0.029944  ... -0.022640  0.049408   \n",
       "networks  0.047790 -0.015439 -0.006875  0.036161  ... -0.033633  0.036782   \n",
       "neural   -0.000441 -0.010358 -0.042919  0.020014  ... -0.033135 -0.011705   \n",
       "and       0.003022 -0.011052 -0.010028 -0.044554  ...  0.015895  0.048282   \n",
       "as        0.007143  0.046381  0.018130 -0.027704  ...  0.042003 -0.029192   \n",
       "\n",
       "                92        93        94        95        96        97  \\\n",
       "deep     -0.047843 -0.021477 -0.041879  0.002027  0.031538 -0.026211   \n",
       "networks -0.045058 -0.049737  0.003334 -0.041389 -0.049591  0.034766   \n",
       "neural    0.009918  0.047956  0.047155  0.018235  0.017842 -0.014145   \n",
       "and       0.021178  0.036694 -0.002875  0.045490 -0.008114 -0.013406   \n",
       "as        0.020552  0.012791  0.014633  0.008141  0.001320  0.034206   \n",
       "\n",
       "                98        99  \n",
       "deep      0.028766  0.011593  \n",
       "networks -0.039074 -0.013693  \n",
       "neural    0.003705  0.013786  \n",
       "and       0.049373 -0.033712  \n",
       "as        0.030691  0.037772  \n",
       "\n",
       "[5 rows x 100 columns]"
      ]
     },
     "execution_count": 7,
     "metadata": {},
     "output_type": "execute_result"
    }
   ],
   "source": [
    "weights = cbow.get_weights()[0]\n",
    "weights = weights[1:]\n",
    "print(weights.shape)\n",
    "\n",
    "pd.DataFrame(weights, index=list(id2word.values())[1:]).head()"
   ]
  },
  {
   "cell_type": "code",
   "execution_count": 8,
   "id": "7ce9f671",
   "metadata": {},
   "outputs": [
    {
     "name": "stdout",
     "output_type": "stream",
     "text": [
      "(74, 74)\n"
     ]
    },
    {
     "data": {
      "text/plain": [
       "{'networks': ['recurrent', 'image', 'in', 'methods', 'speech']}"
      ]
     },
     "execution_count": 8,
     "metadata": {},
     "output_type": "execute_result"
    }
   ],
   "source": [
    "from sklearn.metrics.pairwise import euclidean_distances\n",
    "\n",
    "distance_matrix = euclidean_distances(weights)\n",
    "print(distance_matrix.shape)\n",
    "\n",
    "similar_words = {search_term: [id2word[idx] for idx in distance_matrix[word2id[search_term]-1].argsort()[1:6]+1] \n",
    "                   for search_term in ['networks']}\n",
    "\n",
    "similar_words"
   ]
  },
  {
   "cell_type": "code",
   "execution_count": null,
   "id": "990b4343",
   "metadata": {},
   "outputs": [],
   "source": []
  }
 ],
 "metadata": {
  "kernelspec": {
   "display_name": "Python 3 (ipykernel)",
   "language": "python",
   "name": "python3"
  },
  "language_info": {
   "codemirror_mode": {
    "name": "ipython",
    "version": 3
   },
   "file_extension": ".py",
   "mimetype": "text/x-python",
   "name": "python",
   "nbconvert_exporter": "python",
   "pygments_lexer": "ipython3",
   "version": "3.9.7"
  }
 },
 "nbformat": 4,
 "nbformat_minor": 5
}
