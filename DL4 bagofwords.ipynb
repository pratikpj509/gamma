{
 "cells": [
  {
   "cell_type": "code",
   "execution_count": 73,
   "id": "ee49acd5-4d89-4fa7-9b15-51b7fd616af5",
   "metadata": {},
   "outputs": [],
   "source": [
    "#importing libraries\n",
    "# importing libraries\n",
    "from tensorflow.keras.preprocessing import text\n",
    "from tensorflow.keras.utils import to_categorical  # replaces np_utils\n",
    "from tensorflow.keras.preprocessing import sequence\n",
    "from tensorflow.keras.utils import pad_sequences\n",
    "import numpy as np\n",
    "import pandas as pd\n"
   ]
  },
  {
   "cell_type": "code",
   "execution_count": 75,
   "id": "1c81803a-b45c-4713-a325-cecfe7f39c09",
   "metadata": {},
   "outputs": [],
   "source": [
    "ata = \"\"\"Deep learning (also known as deep structured learning) is part of a broader family of machine learning methods based on artificial neural networks with representation learning. Learning can be supervised, semi-supervised or unsupervised. \n",
    "Deep-learning architectures such as deep neural networks, deep belief networks, deep reinforcement learning, recurrent neural networks, convolutional neural networks and Transformers have been applied to fields including computer vision, speech recognition, natural language processing, machine translation, bioinformatics, drug design, medical image analysis, climate science, material inspection and board game programs, where they have produced results comparable to and in some cases surpassing human expert performance.\n",
    "\"\"\"\n",
    "\n",
    "# Tokenization\n",
    "dl_data = data.split()\n"
   ]
  },
  {
   "cell_type": "code",
   "execution_count": 77,
   "id": "663fe95c-0ffa-4cf4-b231-8cacff1ab518",
   "metadata": {},
   "outputs": [
    {
     "name": "stdout",
     "output_type": "stream",
     "text": [
      "Vocabulary Size: 75\n",
      "Vocabulary Sample: [('learning', 1), ('deep', 2), ('networks', 3), ('neural', 4), ('and', 5), ('as', 6), ('of', 7), ('machine', 8), ('supervised', 9), ('have', 10)]\n"
     ]
    }
   ],
   "source": [
    "tokenizer = text.Tokenizer()\n",
    "tokenizer.fit_on_texts(dl_data)\n",
    "word2id = tokenizer.word_index\n",
    "\n",
    "word2id['PAD'] = 0\n",
    "id2word = {v: k for k, v in word2id.items()}\n",
    "wids = [[word2id[w] for w in text.text_to_word_sequence(doc)] for doc in dl_data]\n",
    "\n",
    "vocab_size = len(word2id)\n",
    "embed_size = 100\n",
    "window_size = 2\n",
    "\n",
    "print('Vocabulary Size:', vocab_size)\n",
    "print('Vocabulary Sample:', list(word2id.items())[:10])"
   ]
  },
  {
   "cell_type": "code",
   "execution_count": 79,
   "id": "db5946e0-2324-478c-9443-9231a470a021",
   "metadata": {},
   "outputs": [],
   "source": [
    "# Generating (context word, target/label word) pairs\n",
    "def generate_context_word_pairs(corpus, window_size, vocab_size):\n",
    "    context_length = window_size*2\n",
    "    for words in corpus:\n",
    "        sentence_length = len(words)\n",
    "        for index, word in enumerate(words):\n",
    "            context_words = []\n",
    "            label_word = []            \n",
    "            start = index - window_size\n",
    "            end = index + window_size + 1\n",
    "            \n",
    "            context_words.append([words[i] \n",
    "                                 for i in range(start, end) \n",
    "                                 if 0 <= i < sentence_length \n",
    "                                 and i != index])\n",
    "            label_word.append(word)\n",
    "\n",
    "            x = pad_sequences(context_words, maxlen=context_length)\n",
    "            y = to_categorical(label_word, vocab_size)\n",
    "            yield (x, y)\n",
    "            \n",
    "i = 0\n",
    "for x, y in generate_context_word_pairs(corpus=wids, window_size=window_size, vocab_size=vocab_size):\n",
    "    if 0 not in x[0]:\n",
    "        #print('Context (X):', [id2word[w] for w in x[0]], '-> Target (Y):', id2word[np.argmax(y[0])])\n",
    "    \n",
    "        if i == 10:\n",
    "            break\n",
    "        i += 1"
   ]
  },
  {
   "cell_type": "code",
   "execution_count": 81,
   "id": "66393f70-ceda-4947-9a5a-1575fe2844d9",
   "metadata": {},
   "outputs": [
    {
     "data": {
      "text/html": [
       "<pre style=\"white-space:pre;overflow-x:auto;line-height:normal;font-family:Menlo,'DejaVu Sans Mono',consolas,'Courier New',monospace\"><span style=\"font-weight: bold\">Model: \"sequential_5\"</span>\n",
       "</pre>\n"
      ],
      "text/plain": [
       "\u001b[1mModel: \"sequential_5\"\u001b[0m\n"
      ]
     },
     "metadata": {},
     "output_type": "display_data"
    },
    {
     "data": {
      "text/html": [
       "<pre style=\"white-space:pre;overflow-x:auto;line-height:normal;font-family:Menlo,'DejaVu Sans Mono',consolas,'Courier New',monospace\">┏━━━━━━━━━━━━━━━━━━━━━━━━━━━━━━━━━┳━━━━━━━━━━━━━━━━━━━━━━━━┳━━━━━━━━━━━━━━━┓\n",
       "┃<span style=\"font-weight: bold\"> Layer (type)                    </span>┃<span style=\"font-weight: bold\"> Output Shape           </span>┃<span style=\"font-weight: bold\">       Param # </span>┃\n",
       "┡━━━━━━━━━━━━━━━━━━━━━━━━━━━━━━━━━╇━━━━━━━━━━━━━━━━━━━━━━━━╇━━━━━━━━━━━━━━━┩\n",
       "│ embedding_5 (<span style=\"color: #0087ff; text-decoration-color: #0087ff\">Embedding</span>)         │ (<span style=\"color: #00d7ff; text-decoration-color: #00d7ff\">None</span>, <span style=\"color: #00af00; text-decoration-color: #00af00\">4</span>, <span style=\"color: #00af00; text-decoration-color: #00af00\">100</span>)         │         <span style=\"color: #00af00; text-decoration-color: #00af00\">7,500</span> │\n",
       "├─────────────────────────────────┼────────────────────────┼───────────────┤\n",
       "│ lambda_5 (<span style=\"color: #0087ff; text-decoration-color: #0087ff\">Lambda</span>)               │ (<span style=\"color: #00d7ff; text-decoration-color: #00d7ff\">None</span>, <span style=\"color: #00af00; text-decoration-color: #00af00\">100</span>)            │             <span style=\"color: #00af00; text-decoration-color: #00af00\">0</span> │\n",
       "├─────────────────────────────────┼────────────────────────┼───────────────┤\n",
       "│ dense_5 (<span style=\"color: #0087ff; text-decoration-color: #0087ff\">Dense</span>)                 │ (<span style=\"color: #00d7ff; text-decoration-color: #00d7ff\">None</span>, <span style=\"color: #00af00; text-decoration-color: #00af00\">75</span>)             │         <span style=\"color: #00af00; text-decoration-color: #00af00\">7,575</span> │\n",
       "└─────────────────────────────────┴────────────────────────┴───────────────┘\n",
       "</pre>\n"
      ],
      "text/plain": [
       "┏━━━━━━━━━━━━━━━━━━━━━━━━━━━━━━━━━┳━━━━━━━━━━━━━━━━━━━━━━━━┳━━━━━━━━━━━━━━━┓\n",
       "┃\u001b[1m \u001b[0m\u001b[1mLayer (type)                   \u001b[0m\u001b[1m \u001b[0m┃\u001b[1m \u001b[0m\u001b[1mOutput Shape          \u001b[0m\u001b[1m \u001b[0m┃\u001b[1m \u001b[0m\u001b[1m      Param #\u001b[0m\u001b[1m \u001b[0m┃\n",
       "┡━━━━━━━━━━━━━━━━━━━━━━━━━━━━━━━━━╇━━━━━━━━━━━━━━━━━━━━━━━━╇━━━━━━━━━━━━━━━┩\n",
       "│ embedding_5 (\u001b[38;5;33mEmbedding\u001b[0m)         │ (\u001b[38;5;45mNone\u001b[0m, \u001b[38;5;34m4\u001b[0m, \u001b[38;5;34m100\u001b[0m)         │         \u001b[38;5;34m7,500\u001b[0m │\n",
       "├─────────────────────────────────┼────────────────────────┼───────────────┤\n",
       "│ lambda_5 (\u001b[38;5;33mLambda\u001b[0m)               │ (\u001b[38;5;45mNone\u001b[0m, \u001b[38;5;34m100\u001b[0m)            │             \u001b[38;5;34m0\u001b[0m │\n",
       "├─────────────────────────────────┼────────────────────────┼───────────────┤\n",
       "│ dense_5 (\u001b[38;5;33mDense\u001b[0m)                 │ (\u001b[38;5;45mNone\u001b[0m, \u001b[38;5;34m75\u001b[0m)             │         \u001b[38;5;34m7,575\u001b[0m │\n",
       "└─────────────────────────────────┴────────────────────────┴───────────────┘\n"
      ]
     },
     "metadata": {},
     "output_type": "display_data"
    },
    {
     "data": {
      "text/html": [
       "<pre style=\"white-space:pre;overflow-x:auto;line-height:normal;font-family:Menlo,'DejaVu Sans Mono',consolas,'Courier New',monospace\"><span style=\"font-weight: bold\"> Total params: </span><span style=\"color: #00af00; text-decoration-color: #00af00\">15,075</span> (58.89 KB)\n",
       "</pre>\n"
      ],
      "text/plain": [
       "\u001b[1m Total params: \u001b[0m\u001b[38;5;34m15,075\u001b[0m (58.89 KB)\n"
      ]
     },
     "metadata": {},
     "output_type": "display_data"
    },
    {
     "data": {
      "text/html": [
       "<pre style=\"white-space:pre;overflow-x:auto;line-height:normal;font-family:Menlo,'DejaVu Sans Mono',consolas,'Courier New',monospace\"><span style=\"font-weight: bold\"> Trainable params: </span><span style=\"color: #00af00; text-decoration-color: #00af00\">15,075</span> (58.89 KB)\n",
       "</pre>\n"
      ],
      "text/plain": [
       "\u001b[1m Trainable params: \u001b[0m\u001b[38;5;34m15,075\u001b[0m (58.89 KB)\n"
      ]
     },
     "metadata": {},
     "output_type": "display_data"
    },
    {
     "data": {
      "text/html": [
       "<pre style=\"white-space:pre;overflow-x:auto;line-height:normal;font-family:Menlo,'DejaVu Sans Mono',consolas,'Courier New',monospace\"><span style=\"font-weight: bold\"> Non-trainable params: </span><span style=\"color: #00af00; text-decoration-color: #00af00\">0</span> (0.00 B)\n",
       "</pre>\n"
      ],
      "text/plain": [
       "\u001b[1m Non-trainable params: \u001b[0m\u001b[38;5;34m0\u001b[0m (0.00 B)\n"
      ]
     },
     "metadata": {},
     "output_type": "display_data"
    },
    {
     "name": "stdout",
     "output_type": "stream",
     "text": [
      "None\n"
     ]
    }
   ],
   "source": [
    "from keras.models import Sequential\n",
    "from keras.layers import Dense, Embedding, Lambda\n",
    "import tensorflow as tf  # Import TensorFlow for reduce_mean\n",
    "\n",
    "cbow = Sequential()\n",
    "cbow.add(Embedding(input_dim=vocab_size, output_dim=embed_size, input_length=window_size*2))\n",
    "cbow.add(Lambda(lambda x: tf.reduce_mean(x, axis=1), output_shape=(embed_size,)))  # Corrected line\n",
    "cbow.add(Dense(vocab_size, activation='softmax'))\n",
    "cbow.build((None, window_size * 2))  # Explicitly build the model with the expected input shape\n",
    "cbow.compile(loss='categorical_crossentropy', optimizer='rmsprop')\n",
    "\n",
    "print(cbow.summary())\n"
   ]
  },
  {
   "cell_type": "code",
   "execution_count": 89,
   "id": "dce0b8e8-9b17-4af7-9257-de4c417b74d2",
   "metadata": {},
   "outputs": [
    {
     "name": "stdout",
     "output_type": "stream",
     "text": [
      "Epoch: 1 \tLoss: 431.1688380241394\n",
      "\n",
      "Epoch: 2 \tLoss: 430.8469548225403\n",
      "\n",
      "Epoch: 3 \tLoss: 428.9790954589844\n",
      "\n",
      "Epoch: 4 \tLoss: 427.1851363182068\n",
      "\n",
      "Epoch: 5 \tLoss: 425.669237613678\n",
      "\n"
     ]
    }
   ],
   "source": [
    "for epoch in range(1, 6):\n",
    "    loss = 0.\n",
    "    i = 0\n",
    "    for x, y in generate_context_word_pairs(corpus=wids, window_size=window_size, vocab_size=vocab_size):\n",
    "        i += 1\n",
    "        loss += cbow.train_on_batch(x, y)\n",
    "        if i % 100000 == 0:\n",
    "            print('Processed {} (context, word) pairs'.format(i))\n",
    "\n",
    "    print('Epoch:', epoch, '\\tLoss:', loss)\n",
    "    print()\n"
   ]
  },
  {
   "cell_type": "code",
   "execution_count": 90,
   "id": "146ba268-a1b7-44ad-9855-9d09c435cb8d",
   "metadata": {},
   "outputs": [
    {
     "name": "stdout",
     "output_type": "stream",
     "text": [
      "(74, 100)\n"
     ]
    },
    {
     "data": {
      "text/html": [
       "<div>\n",
       "<style scoped>\n",
       "    .dataframe tbody tr th:only-of-type {\n",
       "        vertical-align: middle;\n",
       "    }\n",
       "\n",
       "    .dataframe tbody tr th {\n",
       "        vertical-align: top;\n",
       "    }\n",
       "\n",
       "    .dataframe thead th {\n",
       "        text-align: right;\n",
       "    }\n",
       "</style>\n",
       "<table border=\"1\" class=\"dataframe\">\n",
       "  <thead>\n",
       "    <tr style=\"text-align: right;\">\n",
       "      <th></th>\n",
       "      <th>0</th>\n",
       "      <th>1</th>\n",
       "      <th>2</th>\n",
       "      <th>3</th>\n",
       "      <th>4</th>\n",
       "      <th>5</th>\n",
       "      <th>6</th>\n",
       "      <th>7</th>\n",
       "      <th>8</th>\n",
       "      <th>9</th>\n",
       "      <th>...</th>\n",
       "      <th>90</th>\n",
       "      <th>91</th>\n",
       "      <th>92</th>\n",
       "      <th>93</th>\n",
       "      <th>94</th>\n",
       "      <th>95</th>\n",
       "      <th>96</th>\n",
       "      <th>97</th>\n",
       "      <th>98</th>\n",
       "      <th>99</th>\n",
       "    </tr>\n",
       "  </thead>\n",
       "  <tbody>\n",
       "    <tr>\n",
       "      <th>deep</th>\n",
       "      <td>0.029655</td>\n",
       "      <td>0.022873</td>\n",
       "      <td>-0.015262</td>\n",
       "      <td>-0.023544</td>\n",
       "      <td>-0.054531</td>\n",
       "      <td>0.005922</td>\n",
       "      <td>0.026010</td>\n",
       "      <td>0.022788</td>\n",
       "      <td>-0.063148</td>\n",
       "      <td>0.021180</td>\n",
       "      <td>...</td>\n",
       "      <td>-0.041188</td>\n",
       "      <td>0.027907</td>\n",
       "      <td>0.007141</td>\n",
       "      <td>-0.028975</td>\n",
       "      <td>0.025704</td>\n",
       "      <td>0.039390</td>\n",
       "      <td>-0.016344</td>\n",
       "      <td>-0.042272</td>\n",
       "      <td>0.011556</td>\n",
       "      <td>0.021207</td>\n",
       "    </tr>\n",
       "    <tr>\n",
       "      <th>networks</th>\n",
       "      <td>0.041737</td>\n",
       "      <td>0.026283</td>\n",
       "      <td>0.004711</td>\n",
       "      <td>0.058627</td>\n",
       "      <td>0.033102</td>\n",
       "      <td>-0.000229</td>\n",
       "      <td>-0.022815</td>\n",
       "      <td>-0.007544</td>\n",
       "      <td>0.019047</td>\n",
       "      <td>0.048183</td>\n",
       "      <td>...</td>\n",
       "      <td>-0.053341</td>\n",
       "      <td>0.026997</td>\n",
       "      <td>-0.030934</td>\n",
       "      <td>-0.056822</td>\n",
       "      <td>-0.033432</td>\n",
       "      <td>0.028579</td>\n",
       "      <td>0.041693</td>\n",
       "      <td>-0.011602</td>\n",
       "      <td>-0.045532</td>\n",
       "      <td>-0.038753</td>\n",
       "    </tr>\n",
       "    <tr>\n",
       "      <th>neural</th>\n",
       "      <td>0.006106</td>\n",
       "      <td>0.030483</td>\n",
       "      <td>-0.009500</td>\n",
       "      <td>0.042318</td>\n",
       "      <td>0.048228</td>\n",
       "      <td>0.045328</td>\n",
       "      <td>0.036498</td>\n",
       "      <td>0.004088</td>\n",
       "      <td>-0.040926</td>\n",
       "      <td>0.033485</td>\n",
       "      <td>...</td>\n",
       "      <td>-0.014414</td>\n",
       "      <td>0.022468</td>\n",
       "      <td>-0.006091</td>\n",
       "      <td>0.006012</td>\n",
       "      <td>0.027400</td>\n",
       "      <td>0.034097</td>\n",
       "      <td>0.005190</td>\n",
       "      <td>-0.046414</td>\n",
       "      <td>-0.005619</td>\n",
       "      <td>0.019854</td>\n",
       "    </tr>\n",
       "    <tr>\n",
       "      <th>and</th>\n",
       "      <td>-0.012251</td>\n",
       "      <td>0.034479</td>\n",
       "      <td>-0.033184</td>\n",
       "      <td>0.039768</td>\n",
       "      <td>0.004223</td>\n",
       "      <td>0.022133</td>\n",
       "      <td>-0.022103</td>\n",
       "      <td>-0.027806</td>\n",
       "      <td>-0.031485</td>\n",
       "      <td>0.036963</td>\n",
       "      <td>...</td>\n",
       "      <td>0.044040</td>\n",
       "      <td>-0.008037</td>\n",
       "      <td>0.002038</td>\n",
       "      <td>0.006562</td>\n",
       "      <td>0.040219</td>\n",
       "      <td>-0.021924</td>\n",
       "      <td>-0.018883</td>\n",
       "      <td>0.042440</td>\n",
       "      <td>-0.041223</td>\n",
       "      <td>0.017965</td>\n",
       "    </tr>\n",
       "    <tr>\n",
       "      <th>as</th>\n",
       "      <td>-0.007139</td>\n",
       "      <td>0.007471</td>\n",
       "      <td>-0.021031</td>\n",
       "      <td>0.012144</td>\n",
       "      <td>0.047927</td>\n",
       "      <td>-0.020941</td>\n",
       "      <td>-0.004091</td>\n",
       "      <td>0.013818</td>\n",
       "      <td>-0.042243</td>\n",
       "      <td>0.021575</td>\n",
       "      <td>...</td>\n",
       "      <td>0.032584</td>\n",
       "      <td>-0.007470</td>\n",
       "      <td>-0.025956</td>\n",
       "      <td>-0.004092</td>\n",
       "      <td>-0.023335</td>\n",
       "      <td>0.031788</td>\n",
       "      <td>0.025074</td>\n",
       "      <td>-0.012865</td>\n",
       "      <td>-0.043434</td>\n",
       "      <td>0.000664</td>\n",
       "    </tr>\n",
       "  </tbody>\n",
       "</table>\n",
       "<p>5 rows × 100 columns</p>\n",
       "</div>"
      ],
      "text/plain": [
       "                0         1         2         3         4         5   \\\n",
       "deep      0.029655  0.022873 -0.015262 -0.023544 -0.054531  0.005922   \n",
       "networks  0.041737  0.026283  0.004711  0.058627  0.033102 -0.000229   \n",
       "neural    0.006106  0.030483 -0.009500  0.042318  0.048228  0.045328   \n",
       "and      -0.012251  0.034479 -0.033184  0.039768  0.004223  0.022133   \n",
       "as       -0.007139  0.007471 -0.021031  0.012144  0.047927 -0.020941   \n",
       "\n",
       "                6         7         8         9   ...        90        91  \\\n",
       "deep      0.026010  0.022788 -0.063148  0.021180  ... -0.041188  0.027907   \n",
       "networks -0.022815 -0.007544  0.019047  0.048183  ... -0.053341  0.026997   \n",
       "neural    0.036498  0.004088 -0.040926  0.033485  ... -0.014414  0.022468   \n",
       "and      -0.022103 -0.027806 -0.031485  0.036963  ...  0.044040 -0.008037   \n",
       "as       -0.004091  0.013818 -0.042243  0.021575  ...  0.032584 -0.007470   \n",
       "\n",
       "                92        93        94        95        96        97  \\\n",
       "deep      0.007141 -0.028975  0.025704  0.039390 -0.016344 -0.042272   \n",
       "networks -0.030934 -0.056822 -0.033432  0.028579  0.041693 -0.011602   \n",
       "neural   -0.006091  0.006012  0.027400  0.034097  0.005190 -0.046414   \n",
       "and       0.002038  0.006562  0.040219 -0.021924 -0.018883  0.042440   \n",
       "as       -0.025956 -0.004092 -0.023335  0.031788  0.025074 -0.012865   \n",
       "\n",
       "                98        99  \n",
       "deep      0.011556  0.021207  \n",
       "networks -0.045532 -0.038753  \n",
       "neural   -0.005619  0.019854  \n",
       "and      -0.041223  0.017965  \n",
       "as       -0.043434  0.000664  \n",
       "\n",
       "[5 rows x 100 columns]"
      ]
     },
     "execution_count": 90,
     "metadata": {},
     "output_type": "execute_result"
    }
   ],
   "source": [
    "weights = cbow.get_weights()[0]\n",
    "weights = weights[1:]\n",
    "print(weights.shape)\n",
    "\n",
    "pd.DataFrame(weights, index=list(id2word.values())[1:]).head()"
   ]
  },
  {
   "cell_type": "code",
   "execution_count": 91,
   "id": "9a984c59-38f2-4a06-93c3-70602d8e4714",
   "metadata": {},
   "outputs": [
    {
     "name": "stdout",
     "output_type": "stream",
     "text": [
      "(74, 74)\n"
     ]
    },
    {
     "data": {
      "text/plain": [
       "{'deep': ['representation', 'reinforcement', 'on', 'vision', 'speech']}"
      ]
     },
     "execution_count": 91,
     "metadata": {},
     "output_type": "execute_result"
    }
   ],
   "source": [
    "from sklearn.metrics.pairwise import euclidean_distances\n",
    "\n",
    "distance_matrix = euclidean_distances(weights)\n",
    "print(distance_matrix.shape)\n",
    "\n",
    "similar_words = {search_term: [id2word[idx] for idx in distance_matrix[word2id[search_term]-1].argsort()[1:6]+1] \n",
    "                   for search_term in ['deep']}\n",
    "\n",
    "similar_words"
   ]
  },
  {
   "cell_type": "code",
   "execution_count": null,
   "id": "5c304451-8b8c-4b37-9d7a-b2506b406d1b",
   "metadata": {},
   "outputs": [],
   "source": []
  }
 ],
 "metadata": {
  "kernelspec": {
   "display_name": "Python 3 (ipykernel)",
   "language": "python",
   "name": "python3"
  },
  "language_info": {
   "codemirror_mode": {
    "name": "ipython",
    "version": 3
   },
   "file_extension": ".py",
   "mimetype": "text/x-python",
   "name": "python",
   "nbconvert_exporter": "python",
   "pygments_lexer": "ipython3",
   "version": "3.12.7"
  }
 },
 "nbformat": 4,
 "nbformat_minor": 5
}
